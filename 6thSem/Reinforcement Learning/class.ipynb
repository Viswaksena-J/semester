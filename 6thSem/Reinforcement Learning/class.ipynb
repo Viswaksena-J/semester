{
 "cells": [
  {
   "cell_type": "code",
   "execution_count": null,
   "metadata": {},
   "outputs": [],
   "source": [
    "def value_function(states, actions, rewards, transition_function, discount_factor=0.9, theta=0.0001):\n",
    "    \"\"\"\n",
    "    Calculate the value function for a given policy.\n",
    "\n",
    "    Args:\n",
    "        states: List of all states in the environment.\n",
    "        actions: List of all actions in the environment.\n",
    "        rewards: Rewards for each state-action pair.\n",
    "        transition_function: Function to get the next state given current state and action.\n",
    "        discount_factor: Discount factor for future rewards.\n",
    "        theta: Threshold for value iteration.\n",
    "\n",
    "    Returns:\n",
    "        Value function: A dictionary mapping state -> value.\n",
    "    \"\"\"\n",
    "    # Initialize value function\n",
    "    V = {s: 0 for s in states}\n",
    "\n",
    "    while True:\n",
    "        delta = 0\n",
    "        # For each state, perform a full backup\n",
    "        for s in states:\n",
    "            v = 0\n",
    "            # Look at the possible next actions\n",
    "            for a in actions[s]:\n",
    "                # For each action, look at the possible next states...\n",
    "                for prob, next_state, reward, done in transition_function(s, a):\n",
    "                    # Calculate the expected value\n",
    "                    v += prob * (reward + discount_factor * V[next_state])\n",
    "            # How much our value function changed (across any states)\n",
    "            delta = max(delta, abs(v - V[s]))\n",
    "            V[s] = v\n",
    "        # Stop evaluating once our value function change is below a threshold\n",
    "        if delta < theta:\n",
    "            break\n",
    "\n",
    "    return V\n",
    "states = ['s1', 's2', 's3','s4','s5','s6','Home']\n",
    "actions = {'s1': ['a1', 'a2'], 's2': ['a1', 'a2'], 's3': ['a1', 'a2']}\n",
    "rewards = {('s1', 'a1'): 1, ('s1', 'a2'): 2, ('s2', 'a1'): 2, ('s2', 'a2'): 1, ('s3', 'a1'): 2, ('s3', 'a2'): 1}\n",
    "\n",
    "def transition_function(s, a):\n",
    "    if s == 's1' and a == 'a1':\n",
    "        return [(0.5, 's2', 1, False), (0.5, 's3', 2, False)]\n",
    "    elif s == 's1' and a == 'a2':\n",
    "        return [(1, 's2', 2, False)]\n",
    "    # ... continue for all state-action pairs\n",
    "\n",
    "discount_factor = 0.9\n",
    "theta = 0.0001\n",
    "\n",
    "V = value_function(states, actions, rewards, transition_function, discount_factor, theta)\n"
   ]
  },
  {
   "cell_type": "code",
   "execution_count": null,
   "metadata": {},
   "outputs": [],
   "source": []
  }
 ],
 "metadata": {
  "language_info": {
   "name": "python"
  }
 },
 "nbformat": 4,
 "nbformat_minor": 2
}
