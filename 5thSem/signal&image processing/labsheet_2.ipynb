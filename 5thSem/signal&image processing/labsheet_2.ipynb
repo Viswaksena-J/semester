{
 "cells": [
  {
   "cell_type": "code",
   "execution_count": 1,
   "metadata": {},
   "outputs": [
    {
     "name": "stdout",
     "output_type": "stream",
     "text": [
      "First vector:  [3 7]\n",
      "Second vector:  [1 2 5 7]\n",
      "Convolution using full mode:\n",
      "[ 3 13 29 56 49]\n"
     ]
    }
   ],
   "source": [
    "# Import NumPy\n",
    "import numpy as np \n",
    "# First input array\n",
    "a = np.array([3, 7])\n",
    "print(\"First vector: \", a) \n",
    "# Second input array\n",
    "v = np.array([1, 2, 5, 7])\n",
    "print(\"Second vector: \", v) \n",
    "print(\"Convolution using full mode:\")\n",
    "# Using convolve() function in \"full\" mode:\n",
    "print(np.convolve(a, v)) "
   ]
  }
 ],
 "metadata": {
  "kernelspec": {
   "display_name": "Python 3",
   "language": "python",
   "name": "python3"
  },
  "language_info": {
   "codemirror_mode": {
    "name": "ipython",
    "version": 3
   },
   "file_extension": ".py",
   "mimetype": "text/x-python",
   "name": "python",
   "nbconvert_exporter": "python",
   "pygments_lexer": "ipython3",
   "version": "3.11.4"
  }
 },
 "nbformat": 4,
 "nbformat_minor": 2
}
