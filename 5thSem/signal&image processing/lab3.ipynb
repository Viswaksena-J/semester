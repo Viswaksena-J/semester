{
 "cells": [
  {
   "cell_type": "code",
   "execution_count": 2,
   "metadata": {},
   "outputs": [],
   "source": [
    "import cv2\n",
    "import numpy as np\n",
    "import matplotlib.pyplot as plt\n",
    "import math"
   ]
  },
  {
   "cell_type": "code",
   "execution_count": 3,
   "metadata": {},
   "outputs": [
    {
     "ename": "",
     "evalue": "",
     "output_type": "error",
     "traceback": [
      "\u001b[1;31mThe Kernel crashed while executing code in the the current cell or a previous cell. Please review the code in the cell(s) to identify a possible cause of the failure. Click <a href='https://aka.ms/vscodeJupyterKernelCrash'>here</a> for more info. View Jupyter <a href='command:jupyter.viewOutput'>log</a> for further details."
     ]
    }
   ],
   "source": [
    "image_path = \"20231024180214_3M3A0041.jpg\"\n",
    "#convert to grayscale\n",
    "img = cv2.imread(image_path ,cv2.IMREAD_GRAYSCALE)\n",
    "cv2.imshow('image',img)\n",
    "cv2.waitKey(0)\n",
    "cv2.destroyAllWindows()\n",
    "# #convert to float32\n",
    "# img = np.float32(img)\n",
    "# #apply fourier transform\n",
    "# dft = cv.dft(img,flags = cv.DFT_COMPLEX_OUTPUT)\n",
    "# #shift the zero frequency to the center\n",
    "# dft_shift = np.fft.fftshift(dft)\n",
    "# #magnitude spectrum\n",
    "# magnitude_spectrum = 20*np.log(cv.magnitude(dft_shift[:,:,0],dft_shift[:,:,1]))\n",
    "# magnitude_spectrum = np.uint8(magnitude_spectrum)\n",
    "# #apply inverse fourier transform\n",
    "# f_ishift = np.fft.ifftshift(dft_shift)\n",
    "# img_back = cv.idft(f_ishift)\n",
    "# img_back = cv.magnitude(img_back[:,:,0],img_back[:,:,1])\n",
    "# img_back = np.uint8(img_back)\n",
    "# #plotting\n",
    "# plt.subplot(121),plt.imshow(img, cmap = 'gray')\n",
    "# plt.title('Input Image'), plt.xticks([]), plt.yticks([])\n",
    "# plt.subplot(122),plt.imshow(magnitude_spectrum, cmap = 'gray')\n",
    "# plt.title('Magnitude Spectrum'), plt.xticks([]), plt.yticks([])\n",
    "# plt.show()\n",
    "# plt.subplot(121),plt.imshow(img_back, cmap = 'gray')\n",
    "# plt.title('Inverse Fourier Transform'), plt.xticks([]), plt.yticks([])\n",
    "# plt.show()\n"
   ]
  },
  {
   "cell_type": "code",
   "execution_count": 13,
   "metadata": {},
   "outputs": [
    {
     "ename": "AttributeError",
     "evalue": "scipy.misc is deprecated and has no attribute imread.",
     "output_type": "error",
     "traceback": [
      "\u001b[0;31m---------------------------------------------------------------------------\u001b[0m",
      "\u001b[0;31mAttributeError\u001b[0m                            Traceback (most recent call last)",
      "\u001b[1;32m/Users/viswaksenajayam/Downloads/semester/5thSem/signal&image processing/lab3.ipynb Cell 3\u001b[0m line \u001b[0;36m7\n\u001b[1;32m      <a href='vscode-notebook-cell:/Users/viswaksenajayam/Downloads/semester/5thSem/signal%26image%20processing/lab3.ipynb#W2sZmlsZQ%3D%3D?line=2'>3</a>\u001b[0m \u001b[39mfrom\u001b[39;00m \u001b[39mscipy\u001b[39;00m \u001b[39mimport\u001b[39;00m ndimage, misc\n\u001b[1;32m      <a href='vscode-notebook-cell:/Users/viswaksenajayam/Downloads/semester/5thSem/signal%26image%20processing/lab3.ipynb#W2sZmlsZQ%3D%3D?line=4'>5</a>\u001b[0m \u001b[39m# Load the image\u001b[39;00m\n\u001b[1;32m      <a href='vscode-notebook-cell:/Users/viswaksenajayam/Downloads/semester/5thSem/signal%26image%20processing/lab3.ipynb#W2sZmlsZQ%3D%3D?line=5'>6</a>\u001b[0m \u001b[39m# image_path = \"path/to/your/image.jpg\"\u001b[39;00m\n\u001b[0;32m----> <a href='vscode-notebook-cell:/Users/viswaksenajayam/Downloads/semester/5thSem/signal%26image%20processing/lab3.ipynb#W2sZmlsZQ%3D%3D?line=6'>7</a>\u001b[0m image \u001b[39m=\u001b[39m misc\u001b[39m.\u001b[39;49mimread(image_path, mode\u001b[39m=\u001b[39m\u001b[39m'\u001b[39m\u001b[39mL\u001b[39m\u001b[39m'\u001b[39m)\n\u001b[1;32m      <a href='vscode-notebook-cell:/Users/viswaksenajayam/Downloads/semester/5thSem/signal%26image%20processing/lab3.ipynb#W2sZmlsZQ%3D%3D?line=8'>9</a>\u001b[0m \u001b[39m# Save the grayscale image\u001b[39;00m\n\u001b[1;32m     <a href='vscode-notebook-cell:/Users/viswaksenajayam/Downloads/semester/5thSem/signal%26image%20processing/lab3.ipynb#W2sZmlsZQ%3D%3D?line=9'>10</a>\u001b[0m \u001b[39m# gray_image_path = \"path/to/your/grayscale_image.jpg\"\u001b[39;00m\n\u001b[1;32m     <a href='vscode-notebook-cell:/Users/viswaksenajayam/Downloads/semester/5thSem/signal%26image%20processing/lab3.ipynb#W2sZmlsZQ%3D%3D?line=10'>11</a>\u001b[0m misc\u001b[39m.\u001b[39mimsave(gray_image_path, image)\n",
      "File \u001b[0;32m/opt/homebrew/lib/python3.11/site-packages/scipy/misc/__init__.py:45\u001b[0m, in \u001b[0;36m__getattr__\u001b[0;34m(name)\u001b[0m\n\u001b[1;32m     43\u001b[0m \u001b[39mdef\u001b[39;00m \u001b[39m__getattr__\u001b[39m(name):\n\u001b[1;32m     44\u001b[0m     \u001b[39mif\u001b[39;00m name \u001b[39mnot\u001b[39;00m \u001b[39min\u001b[39;00m __all__:\n\u001b[0;32m---> 45\u001b[0m         \u001b[39mraise\u001b[39;00m \u001b[39mAttributeError\u001b[39;00m(\n\u001b[1;32m     46\u001b[0m             \u001b[39m\"\u001b[39m\u001b[39mscipy.misc is deprecated and has no attribute \u001b[39m\u001b[39m\"\u001b[39m\n\u001b[1;32m     47\u001b[0m             \u001b[39mf\u001b[39m\u001b[39m\"\u001b[39m\u001b[39m{\u001b[39;00mname\u001b[39m}\u001b[39;00m\u001b[39m.\u001b[39m\u001b[39m\"\u001b[39m)\n\u001b[1;32m     49\u001b[0m     \u001b[39mif\u001b[39;00m name \u001b[39min\u001b[39;00m dataset_methods:\n\u001b[1;32m     50\u001b[0m         msg \u001b[39m=\u001b[39m (\u001b[39m\"\u001b[39m\u001b[39mThe module `scipy.misc` is deprecated and will be \u001b[39m\u001b[39m\"\u001b[39m\n\u001b[1;32m     51\u001b[0m                \u001b[39m\"\u001b[39m\u001b[39mcompletely removed in SciPy v2.0.0. \u001b[39m\u001b[39m\"\u001b[39m\n\u001b[1;32m     52\u001b[0m                \u001b[39mf\u001b[39m\u001b[39m\"\u001b[39m\u001b[39mAll dataset methods including \u001b[39m\u001b[39m{\u001b[39;00mname\u001b[39m}\u001b[39;00m\u001b[39m, must be imported \u001b[39m\u001b[39m\"\u001b[39m\n\u001b[1;32m     53\u001b[0m                \u001b[39m\"\u001b[39m\u001b[39mdirectly from the new `scipy.datasets` module.\u001b[39m\u001b[39m\"\u001b[39m)\n",
      "\u001b[0;31mAttributeError\u001b[0m: scipy.misc is deprecated and has no attribute imread."
     ]
    }
   ],
   "source": [
    "import numpy as np\n",
    "import matplotlib.pyplot as plt\n",
    "from scipy import ndimage, misc\n",
    "\n",
    "# Load the image\n",
    "# image_path = \"path/to/your/image.jpg\"\n",
    "image = misc.imread(image_path, mode='L')\n",
    "\n",
    "# Save the grayscale image\n",
    "# gray_image_path = \"path/to/your/grayscale_image.jpg\"\n",
    "misc.imsave(gray_image_path, image)\n",
    "\n",
    "# Display the original and grayscale images\n",
    "plt.subplot(1, 2, 1)\n",
    "plt.imshow(image, cmap=plt.cm.gray)\n",
    "plt.title('Original Image')\n",
    "\n",
    "plt.subplot(1, 2, 2)\n",
    "plt.imshow(image, cmap=plt.cm.gray)\n",
    "plt.title('Grayscale Image')\n",
    "\n",
    "plt.show()\n"
   ]
  },
  {
   "cell_type": "code",
   "execution_count": null,
   "metadata": {},
   "outputs": [],
   "source": []
  }
 ],
 "metadata": {
  "kernelspec": {
   "display_name": "Python 3",
   "language": "python",
   "name": "python3"
  },
  "language_info": {
   "codemirror_mode": {
    "name": "ipython",
    "version": 3
   },
   "file_extension": ".py",
   "mimetype": "text/x-python",
   "name": "python",
   "nbconvert_exporter": "python",
   "pygments_lexer": "ipython3",
   "version": "3.11.6"
  }
 },
 "nbformat": 4,
 "nbformat_minor": 2
}
