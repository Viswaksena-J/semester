{
 "cells": [
  {
   "cell_type": "code",
   "execution_count": 3,
   "metadata": {},
   "outputs": [
    {
     "name": "stdout",
     "output_type": "stream",
     "text": [
      "Full:  [ 5 16 34 60 61 52 32]\n",
      "Same:  [16 34 60 61]\n",
      "Valid:  [60]\n"
     ]
    }
   ],
   "source": [
    "import numpy as np\n",
    "\n",
    "val = np.array([1,2,3,4])\n",
    "val2 = np.array([5,6,7,8])\n",
    "\n",
    "Full_convolution = np.convolve(val, val2, mode='full')\n",
    "Same_convolution = np.convolve(val, val2, mode=\"same\")\n",
    "Valid_convolution = np.convolve(val, val2, mode=\"valid\")\n",
    "print(\"Full: \", Full_convolution)\n",
    "print(\"Same: \", Same_convolution)\n",
    "print(\"Valid: \", Valid_convolution)\n",
    "# [16 34 60 61]"
   ]
  },
  {
   "cell_type": "code",
   "execution_count": 5,
   "metadata": {},
   "outputs": [
    {
     "name": "stdout",
     "output_type": "stream",
     "text": [
      "300\n"
     ]
    }
   ],
   "source": [
    "print(len(np.repeat([0.,1.,0.],100)))"
   ]
  }
 ],
 "metadata": {
  "kernelspec": {
   "display_name": "Python 3",
   "language": "python",
   "name": "python3"
  },
  "language_info": {
   "codemirror_mode": {
    "name": "ipython",
    "version": 3
   },
   "file_extension": ".py",
   "mimetype": "text/x-python",
   "name": "python",
   "nbconvert_exporter": "python",
   "pygments_lexer": "ipython3",
   "version": "3.11.6"
  }
 },
 "nbformat": 4,
 "nbformat_minor": 2
}
