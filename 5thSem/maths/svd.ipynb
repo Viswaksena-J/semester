{
 "cells": [
  {
   "cell_type": "code",
   "execution_count": 2,
   "metadata": {},
   "outputs": [
    {
     "name": "stdout",
     "output_type": "stream",
     "text": [
      "U: \n",
      "[[ 0.2298477   0.88346102]\n",
      " [ 0.52474482  0.24078249]\n",
      " [ 0.81964194 -0.40189603]]\n",
      "S: \n",
      "[9.52551809 0.51430058]\n",
      "Vt: \n",
      "[[ 0.61962948 -0.78489445]\n",
      " [ 0.78489445  0.61962948]]\n"
     ]
    }
   ],
   "source": [
    "import numpy as np\n",
    "\n",
    "def svd(A):\n",
    "  C = np.dot(A.T, A)\n",
    "  eigenvalues, eigenvectors = np.linalg.eigh(C)\n",
    "\n",
    "  sorted_indices = np.argsort(eigenvalues)[::-1]\n",
    "  eigenvalues = eigenvalues[sorted_indices]\n",
    "  eigenvectors = eigenvectors[:, sorted_indices]\n",
    "\n",
    "\n",
    "  sigma = np.sqrt(eigenvalues)\n",
    "\n",
    "\n",
    "  left_singular_vectors = np.dot(A, eigenvectors)\n",
    "\n",
    "  #i/sigma1 AV1\n",
    "\n",
    "\n",
    "  left_singular_vectors /= np.linalg.norm(left_singular_vectors, axis=0)\n",
    "\n",
    "\n",
    "  right_singular_vectors = eigenvectors\n",
    "\n",
    "  return left_singular_vectors, sigma , right_singular_vectors\n",
    "\n",
    "if __name__ == \"__main__\":\n",
    "\n",
    "  A = np.array([[1, 2], [3, 4], [5,6]])\n",
    "  U, S, V = svd(A)\n",
    "  print(\"U: \")\n",
    "  print(U)\n",
    "  print(\"S: \")\n",
    "  print(S)\n",
    "  print(\"Vt: \")\n",
    "  print(V)"
   ]
  }
 ],
 "metadata": {
  "kernelspec": {
   "display_name": "Python 3",
   "language": "python",
   "name": "python3"
  },
  "language_info": {
   "codemirror_mode": {
    "name": "ipython",
    "version": 3
   },
   "file_extension": ".py",
   "mimetype": "text/x-python",
   "name": "python",
   "nbconvert_exporter": "python",
   "pygments_lexer": "ipython3",
   "version": "3.11.6"
  }
 },
 "nbformat": 4,
 "nbformat_minor": 2
}
